{
 "cells": [
  {
   "attachments": {},
   "cell_type": "markdown",
   "metadata": {},
   "source": [
    "### 参考文献结构信息格式化\n",
    "\n",
    "根据 GB/T 7714-2015 信息与文献 参考文献著录规则 中的要求实现，可能存在一些格式标准问题，可以根据具体要求进行更改。\n",
    "\n",
    "将结构信息格式化的方法，主要解决空缺信息的格式组成变化的问题。\n",
    "\n",
    "formats.yaml中包含了格式和一些例子"
   ]
  },
  {
   "cell_type": "code",
   "execution_count": 40,
   "metadata": {},
   "outputs": [],
   "source": [
    "import re\n",
    "from collections import UserDict\n",
    "\n",
    "\n",
    "class DefaultDict(UserDict):\n",
    "    def __missing__(self, key):\n",
    "        return f\"{{{key}}}\"\n",
    "\n",
    "\n",
    "def wrap(fmt, data, return_str=\"\"):\n",
    "    try:\n",
    "        res = fmt.format_map(data)\n",
    "    except:\n",
    "        res = fmt if return_str is None else return_str\n",
    "    return res\n",
    "\n",
    "\n",
    "class ReplaceFunc:\n",
    "    def __init__(self, data):\n",
    "        self.data = data\n",
    "        self.flag = True\n",
    "\n",
    "    def __call__(self, match):\n",
    "        self.flag = True\n",
    "        fmt = match.groups()[0]\n",
    "        fmt = fmt.replace(\"&lt;\", \"<\").replace(\"&gt;\", \">\")\n",
    "        return wrap(fmt, self.data)\n",
    "\n",
    "\n",
    "def wrapFormat(fmt, data):\n",
    "    fmt = fmt.replace(\"\\<\", \"&lt;\").replace(\"\\>\", \"&gt;\")\n",
    "    data = {k: v for k, v in data.items() if v}\n",
    "    fun = ReplaceFunc(data)\n",
    "    # print(data)\n",
    "\n",
    "    while fun.flag:\n",
    "        fun.flag = False\n",
    "        fmt = re.sub(\"<([^<>]*)>\", fun, fmt)\n",
    "\n",
    "    # print(fmt)\n",
    "    # print(data)\n",
    "    fmt = wrap(fmt, DefaultDict(data), None)\n",
    "    # print(fmt)\n",
    "\n",
    "    # fmt = fmt.format_map(data)\n",
    "    fmt = fmt.replace(\"&lt;\", \"<\").replace(\"&gt;\", \">\")\n",
    "    return fmt\n"
   ]
  },
  {
   "cell_type": "code",
   "execution_count": 42,
   "metadata": {},
   "outputs": [
    {
     "name": "stdout",
     "output_type": "stream",
     "text": [
      "中华医学会湖北分会.临床内科杂志[J].1984,1(1)-.武汉:中华医学会湖北分会,1984-.\n",
      "中华医学会湖北分会.临床内科杂志[J].1984,1(1)-.武汉:中华医学会湖北分会,1984-.\n"
     ]
    }
   ],
   "source": [
    "import yaml\n",
    "\n",
    "\n",
    "def parseYAML(file):\n",
    "    with open(file, encoding=\"utf-8\") as f:\n",
    "        data = yaml.load(f, yaml.FullLoader)\n",
    "    return data\n",
    "\n",
    "\n",
    "formats = parseYAML(\"./formats.yaml\")\n",
    "\n",
    "\n",
    "fmtType = \"连续出版物\"\n",
    "\n",
    "out = wrapFormat(formats[fmtType], formats[\"example\"][fmtType][-1])\n",
    "ans = formats[\"example\"][fmtType][-1][\"原例\"]\n",
    "\n",
    "\n",
    "print(out)\n",
    "print(ans)\n",
    "\n",
    "\n",
    "\n",
    "# formats[\"example\"][fmtType][-1]"
   ]
  },
  {
   "cell_type": "code",
   "execution_count": 28,
   "metadata": {},
   "outputs": [],
   "source": [
    "formats = parseYAML(\"./formats.yaml\")\n",
    "\n"
   ]
  },
  {
   "cell_type": "code",
   "execution_count": 43,
   "metadata": {},
   "outputs": [],
   "source": [
    "import json\n",
    "\n",
    "formats = parseYAML(\"./formats.yaml\")\n",
    "example = formats[\"example\"].copy()\n",
    "del formats[\"example\"]\n",
    "\n",
    "\n",
    "with open(\"./fmt7714.json\", \"w\", encoding=\"utf8\") as f:\n",
    "    json.dump(formats, f, ensure_ascii=False)\n",
    "\n",
    "with open(\"./example.json\", \"w\", encoding=\"utf8\") as f:\n",
    "    json.dump(example, f, ensure_ascii=False)\n",
    "\n",
    "    # json.dump(formats, f, ensure_ascii=False)\n",
    "\n",
    "\n",
    "# formats[\"example\"][\"连续出版物析出文献\"]\n",
    "\n",
    "# formats\n"
   ]
  },
  {
   "attachments": {},
   "cell_type": "markdown",
   "metadata": {},
   "source": [
    "### 杂项"
   ]
  },
  {
   "cell_type": "code",
   "execution_count": null,
   "metadata": {},
   "outputs": [],
   "source": [
    "# 标点格式\n",
    "marks = {\n",
    "    \"．\": \". \",\n",
    "    \"，\": \", \",\n",
    "    \"［\": \"[\",\n",
    "    \"］\": \"]\",\n",
    "    \"—\": \"-\",\n",
    "}\n",
    "# http://wjk.usst.edu.cn/"
   ]
  },
  {
   "attachments": {},
   "cell_type": "markdown",
   "metadata": {},
   "source": [
    "### Old Version: 值和格式的二元组"
   ]
  },
  {
   "cell_type": "code",
   "execution_count": null,
   "metadata": {},
   "outputs": [],
   "source": [
    "# (content, fmt) -> fmt.format(content) if fmt else \"\"\n",
    "\n",
    "def wrap(content: str, wrapper: str):\n",
    "    return wrapper.format(content) if content else \"\"\n",
    "\n",
    "\n",
    "def wrap_with_fmt(fmt: list, data=None):\n",
    "    if len(fmt) == 2:\n",
    "        return wrap(data.get(fmt[0], \"\") if data else fmt[0], fmt[1])\n",
    "\n",
    "    s = \"\".join([wrap_with_fmt(fmt_i, data) for fmt_i in fmt[:-1]])\n",
    "\n",
    "    return wrap(s, fmt[-1])\n"
   ]
  },
  {
   "cell_type": "code",
   "execution_count": null,
   "metadata": {},
   "outputs": [],
   "source": [
    "# format_map 可以接受字典，直接使用整个字典表示content\n",
    "\n",
    "p = (\"{a}\", [\"[\", \"{}\", \"/{b}\", \"]\"])\n",
    "\n",
    "\n",
    "def wrapfmt(s, data):\n",
    "    if isinstance(s, tuple):\n",
    "        return wrap(wrapfmt(s[0], data), wrapfmt(s[1], data))\n",
    "    elif isinstance(s, str):\n",
    "        try:\n",
    "            res = s.format(\"{}\", **data)\n",
    "        except:\n",
    "            res = \"\"\n",
    "        return res\n",
    "    elif isinstance(s, list):\n",
    "        return \"\".join([wrapfmt(i, data) for i in s])\n",
    "\n",
    "\n",
    "# wrapfmt(p, {\"a\": \"1\", \"c\": \"23\"})\n"
   ]
  },
  {
   "attachments": {},
   "cell_type": "markdown",
   "metadata": {},
   "source": [
    "### Test: 正则表达式分析"
   ]
  },
  {
   "cell_type": "code",
   "execution_count": 10,
   "metadata": {},
   "outputs": [],
   "source": [
    "import re\n",
    "\n",
    "regex = \"(\\[\\d+\\])\\s+(?:(?!http)(.+?)\\.)?(?:(?!http)(.+?)\\.)?(?:(?!http)(.+?)\\.)?(?:(?!http)(.+?)\\.)?(?:(?:(?:(https?.*)\\.(?=DOI))?(DOI.*)\\.)|(?:(https?.*)\\.$))\"\n",
    "\n",
    "\n",
    "a = re.match(regex, formats[\"example\"][\"专著\"][0][\"原例\"])\n",
    "\n",
    "\n",
    "a\n",
    "# a.groups()\n",
    "\n"
   ]
  }
 ],
 "metadata": {
  "kernelspec": {
   "display_name": "py39",
   "language": "python",
   "name": "python3"
  },
  "language_info": {
   "codemirror_mode": {
    "name": "ipython",
    "version": 3
   },
   "file_extension": ".py",
   "mimetype": "text/x-python",
   "name": "python",
   "nbconvert_exporter": "python",
   "pygments_lexer": "ipython3",
   "version": "3.9.13"
  },
  "orig_nbformat": 4
 },
 "nbformat": 4,
 "nbformat_minor": 2
}
