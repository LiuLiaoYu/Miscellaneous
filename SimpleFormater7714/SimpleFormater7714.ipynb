{
 "cells": [
  {
   "attachments": {},
   "cell_type": "markdown",
   "metadata": {},
   "source": [
    "### 参考文献结构信息格式化\n",
    "\n",
    "根据 GB/T 7714-2015 信息与文献 参考文献著录规则 中的要求实现，可能存在一些格式标准问题，可以根据具体要求进行更改。\n",
    "\n",
    "一个简单的将结构信息格式化的方法，主要处理了空缺信息下的格式成分变化的问题。"
   ]
  },
  {
   "cell_type": "code",
   "execution_count": 176,
   "metadata": {},
   "outputs": [],
   "source": [
    "import re\n",
    "from collections import UserDict\n",
    "\n",
    "\n",
    "class DefaultDict(UserDict):\n",
    "    def __missing__(self, key):\n",
    "        return f\"{{{key}}}\"\n",
    "\n",
    "\n",
    "def wrap(fmt, data, return_str=\"\"):\n",
    "    try:\n",
    "        res = fmt.format_map(data)\n",
    "    except:\n",
    "        res = fmt if return_str is None else return_str\n",
    "    return res\n",
    "\n",
    "\n",
    "class ReplaceFunc:\n",
    "    @property\n",
    "    def flag(self):\n",
    "        flag = self._flag\n",
    "        self._flag = False\n",
    "        return flag\n",
    "\n",
    "    def __init__(self, data):\n",
    "        self.data = data\n",
    "        self._flag = True\n",
    "\n",
    "    def __call__(self, match):\n",
    "        self._flag = True\n",
    "        fmt = match.groups()[0]\n",
    "        fmt = fmt.replace(\"&lt;\", \"<\").replace(\"&gt;\", \">\")\n",
    "        return wrap(fmt, self.data)\n",
    "\n",
    "\n",
    "def wrapFormat(fmt, data):\n",
    "    fmt = fmt.replace(\"\\<\", \"&lt;\").replace(\"\\>\", \"&gt;\")\n",
    "    data = {k: v for k, v in data.items() if v}\n",
    "    fun = ReplaceFunc(data)\n",
    "\n",
    "    while fun.flag:\n",
    "        fmt = re.sub(\"<([^<>]*)>\", fun, fmt)\n",
    "\n",
    "    fmt = wrap(fmt, DefaultDict(data), None)\n",
    "    fmt = fmt.replace(\"&lt;\", \"<\").replace(\"&gt;\", \">\")\n",
    "    return fmt\n"
   ]
  },
  {
   "cell_type": "code",
   "execution_count": 7,
   "metadata": {},
   "outputs": [
    {
     "name": "stdout",
     "output_type": "stream",
     "text": [
      "{\"structed\": [{\"类型\": \"专著\", \"主要责任者\": \"陈登原\", \"题名\": \"国史旧闻\", \"其他题名信息\": \"第1卷\", \"文献类型标识\": \"M\", \"文献载体标识\": null, \"其他责任者\": null, \"版本项\": null, \"出版地\": \"北京\", \"出版者\": \"中华书局\", \"出版年\": 2000, \"引文页码\": 29, \"引用日期\": null, \"获取和访问路径\": null, \"数字对象唯一标识符\": null}, {\"类型\": \"专著\", \"主要责任者\": \"哈里森,沃尔德伦\", \"题名\": \"经济数学与金融数学\", \"其他题名信息\": null, \"文献类型标识\": \"M\", \"文献载体标识\": null, \"其他责任者\": \"谢远涛,译\", \"版本项\": null, \"出版地\": \"北京\", \"出版者\": \"中国人民大学出版社\", \"出版年\": 2012, \"引文页码\": \"235-236\", \"引用日期\": null, \"获取和访问路径\": null, \"数字对象唯一标识符\": null}, {\"类型\": \"专著\", \"主要责任者\": \"北京市政协民族和宗教委员会,北京联合大学民族与宗教研究所\", \"题名\": \"历代王朝与民族宗教\", \"其他题名信息\": null, \"文献类型标识\": \"M\", \"文献载体标识\": null, \"其他责任者\": null, \"版本项\": null, \"出版地\": \"北京\", \"出版者\": \"民族出版社\", \"出版年\": 2012, \"引文页码\": 112, \"引用日期\": null, \"获取和访问路径\": null, \"数字对象唯一标识符\": null}, {\"类型\": \"专著\", \"主要责任者\": \"全国信息与文献标准化技术委员会\", \"题名\": \"信息与文献 都柏林核心元数据元素集\", \"其他题名信息\": \"GB/T 25100—2010\", \"文献类型标识\": \"S\", \"文献载体标识\": null, \"其他责任者\": null, \"版本项\": null, \"出版地\": \"北京\", \"出版者\": \"中国标准出版社\", \"出版年\": 2010, \"引文页码\": \"2-3\", \"引用日期\": null, \"获取和访问路径\": null, \"数字对象唯一标识符\": null}], \"origin\": [\"\"]}\n"
     ]
    }
   ],
   "source": [
    "from sympy import expand\n",
    "import yaml\n",
    "\n",
    "\n",
    "def parseYAML(file):\n",
    "    with open(file, encoding=\"utf-8\") as f:\n",
    "        data = yaml.load(f, yaml.FullLoader)\n",
    "    return data\n",
    "\n",
    "\n",
    "examples = parseYAML(\"./examples.yaml\")\n",
    "formats = parseYAML(\"./formats.yaml\")\n",
    "\n",
    "\n",
    "# wrapFormat(formats[\"专著\"], examples[\"structed\"][0])\n",
    "\n",
    "\n",
    "import json\n",
    "\n",
    "# print(json.dumps(formats, ensure_ascii=False))\n",
    "print(json.dumps(examples, ensure_ascii=False))\n",
    "# json.load()\n"
   ]
  },
  {
   "attachments": {},
   "cell_type": "markdown",
   "metadata": {},
   "source": [
    "### 杂项"
   ]
  },
  {
   "cell_type": "code",
   "execution_count": null,
   "metadata": {},
   "outputs": [],
   "source": [
    "# 标点格式\n",
    "marks = {\n",
    "    \"．\": \". \",\n",
    "    \"，\": \", \",\n",
    "    \"［\": \"[\",\n",
    "    \"］\": \"]\",\n",
    "    \"—\": \"-\",\n",
    "}\n",
    "# http://wjk.usst.edu.cn/"
   ]
  },
  {
   "attachments": {},
   "cell_type": "markdown",
   "metadata": {},
   "source": [
    "### Old Version: 值和格式的二元组"
   ]
  },
  {
   "cell_type": "code",
   "execution_count": null,
   "metadata": {},
   "outputs": [],
   "source": [
    "# (content, fmt) -> fmt.format(content) if fmt else \"\"\n",
    "\n",
    "def wrap(content: str, wrapper: str):\n",
    "    return wrapper.format(content) if content else \"\"\n",
    "\n",
    "\n",
    "def wrap_with_fmt(fmt: list, data=None):\n",
    "    if len(fmt) == 2:\n",
    "        return wrap(data.get(fmt[0], \"\") if data else fmt[0], fmt[1])\n",
    "\n",
    "    s = \"\".join([wrap_with_fmt(fmt_i, data) for fmt_i in fmt[:-1]])\n",
    "\n",
    "    return wrap(s, fmt[-1])\n"
   ]
  },
  {
   "cell_type": "code",
   "execution_count": null,
   "metadata": {},
   "outputs": [],
   "source": [
    "# format_map 可以接受字典，直接使用整个字典表示content\n",
    "\n",
    "p = (\"{a}\", [\"[\", \"{}\", \"/{b}\", \"]\"])\n",
    "\n",
    "\n",
    "def wrapfmt(s, data):\n",
    "    if isinstance(s, tuple):\n",
    "        return wrap(wrapfmt(s[0], data), wrapfmt(s[1], data))\n",
    "    elif isinstance(s, str):\n",
    "        try:\n",
    "            res = s.format(\"{}\", **data)\n",
    "        except:\n",
    "            res = \"\"\n",
    "        return res\n",
    "    elif isinstance(s, list):\n",
    "        return \"\".join([wrapfmt(i, data) for i in s])\n",
    "\n",
    "\n",
    "# wrapfmt(p, {\"a\": \"1\", \"c\": \"23\"})\n"
   ]
  },
  {
   "attachments": {},
   "cell_type": "markdown",
   "metadata": {},
   "source": [
    "### Test: 正则表达式分析"
   ]
  },
  {
   "cell_type": "code",
   "execution_count": 190,
   "metadata": {},
   "outputs": [
    {
     "ename": "KeyError",
     "evalue": "'origin'",
     "output_type": "error",
     "traceback": [
      "\u001b[1;31m---------------------------------------------------------------------------\u001b[0m",
      "\u001b[1;31mKeyError\u001b[0m                                  Traceback (most recent call last)",
      "\u001b[1;32mi:\\code\\@Lang\\Python\\work\\GB T 7714-2015\\GBT7714-2015.ipynb Cell 10\u001b[0m in \u001b[0;36m<cell line: 5>\u001b[1;34m()\u001b[0m\n\u001b[0;32m      <a href='vscode-notebook-cell:/i%3A/code/%40Lang/Python/work/GB%20T%207714-2015/GBT7714-2015.ipynb#X24sZmlsZQ%3D%3D?line=0'>1</a>\u001b[0m \u001b[39mimport\u001b[39;00m \u001b[39mre\u001b[39;00m\n\u001b[0;32m      <a href='vscode-notebook-cell:/i%3A/code/%40Lang/Python/work/GB%20T%207714-2015/GBT7714-2015.ipynb#X24sZmlsZQ%3D%3D?line=2'>3</a>\u001b[0m regex \u001b[39m=\u001b[39m \u001b[39m\"\u001b[39m\u001b[39m(\u001b[39m\u001b[39m\\\u001b[39m\u001b[39m[\u001b[39m\u001b[39m\\\u001b[39m\u001b[39md+\u001b[39m\u001b[39m\\\u001b[39m\u001b[39m])\u001b[39m\u001b[39m\\\u001b[39m\u001b[39ms+(?:(?!http)(.+?)\u001b[39m\u001b[39m\\\u001b[39m\u001b[39m.)?(?:(?!http)(.+?)\u001b[39m\u001b[39m\\\u001b[39m\u001b[39m.)?(?:(?!http)(.+?)\u001b[39m\u001b[39m\\\u001b[39m\u001b[39m.)?(?:(?!http)(.+?)\u001b[39m\u001b[39m\\\u001b[39m\u001b[39m.)?(?:(?:(?:(https?.*)\u001b[39m\u001b[39m\\\u001b[39m\u001b[39m.(?=DOI))?(DOI.*)\u001b[39m\u001b[39m\\\u001b[39m\u001b[39m.)|(?:(https?.*)\u001b[39m\u001b[39m\\\u001b[39m\u001b[39m.$))\u001b[39m\u001b[39m\"\u001b[39m\n\u001b[1;32m----> <a href='vscode-notebook-cell:/i%3A/code/%40Lang/Python/work/GB%20T%207714-2015/GBT7714-2015.ipynb#X24sZmlsZQ%3D%3D?line=4'>5</a>\u001b[0m a \u001b[39m=\u001b[39m re\u001b[39m.\u001b[39mmatch(regex, examples[\u001b[39m\"\u001b[39;49m\u001b[39morigin\u001b[39;49m\u001b[39m\"\u001b[39;49m][\u001b[39m-\u001b[39m\u001b[39m2\u001b[39m])\n\u001b[0;32m      <a href='vscode-notebook-cell:/i%3A/code/%40Lang/Python/work/GB%20T%207714-2015/GBT7714-2015.ipynb#X24sZmlsZQ%3D%3D?line=6'>7</a>\u001b[0m a\u001b[39m.\u001b[39mgroups()\n",
      "\u001b[1;31mKeyError\u001b[0m: 'origin'"
     ]
    }
   ],
   "source": [
    "import re\n",
    "\n",
    "regex = \"(\\[\\d+\\])\\s+(?:(?!http)(.+?)\\.)?(?:(?!http)(.+?)\\.)?(?:(?!http)(.+?)\\.)?(?:(?!http)(.+?)\\.)?(?:(?:(?:(https?.*)\\.(?=DOI))?(DOI.*)\\.)|(?:(https?.*)\\.$))\"\n",
    "\n",
    "a = re.match(regex, examples[\"origin\"][-2])\n",
    "\n",
    "a.groups()\n",
    "\n"
   ]
  }
 ],
 "metadata": {
  "kernelspec": {
   "display_name": "py39",
   "language": "python",
   "name": "python3"
  },
  "language_info": {
   "codemirror_mode": {
    "name": "ipython",
    "version": 3
   },
   "file_extension": ".py",
   "mimetype": "text/x-python",
   "name": "python",
   "nbconvert_exporter": "python",
   "pygments_lexer": "ipython3",
   "version": "3.9.13"
  },
  "orig_nbformat": 4
 },
 "nbformat": 4,
 "nbformat_minor": 2
}
